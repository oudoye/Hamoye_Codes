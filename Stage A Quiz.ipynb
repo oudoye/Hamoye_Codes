{
 "cells": [
  {
   "cell_type": "markdown",
   "metadata": {},
   "source": [
    "#### Import required Libraries"
   ]
  },
  {
   "cell_type": "code",
   "execution_count": 1,
   "metadata": {},
   "outputs": [],
   "source": [
    "import numpy as np\n",
    "import pandas as pd\n",
    "import matplotlib.pyplot as plt\n",
    "import seaborn as sns"
   ]
  },
  {
   "cell_type": "markdown",
   "metadata": {},
   "source": [
    "#### Load the Fuel Dataset"
   ]
  },
  {
   "cell_type": "code",
   "execution_count": 2,
   "metadata": {},
   "outputs": [],
   "source": [
    "url = \"https://raw.githubusercontent.com/WalePhenomenon/climate_change/master/fuel_ferc1.csv\"\n",
    "Fuel_Data = pd.read_csv(url)"
   ]
  },
  {
   "cell_type": "markdown",
   "metadata": {},
   "source": [
    "#### Preview Dataset Content (10 randon records)"
   ]
  },
  {
   "cell_type": "code",
   "execution_count": 3,
   "metadata": {},
   "outputs": [
    {
     "data": {
      "text/html": [
       "<div>\n",
       "<style scoped>\n",
       "    .dataframe tbody tr th:only-of-type {\n",
       "        vertical-align: middle;\n",
       "    }\n",
       "\n",
       "    .dataframe tbody tr th {\n",
       "        vertical-align: top;\n",
       "    }\n",
       "\n",
       "    .dataframe thead th {\n",
       "        text-align: right;\n",
       "    }\n",
       "</style>\n",
       "<table border=\"1\" class=\"dataframe\">\n",
       "  <thead>\n",
       "    <tr style=\"text-align: right;\">\n",
       "      <th></th>\n",
       "      <th>record_id</th>\n",
       "      <th>utility_id_ferc1</th>\n",
       "      <th>report_year</th>\n",
       "      <th>plant_name_ferc1</th>\n",
       "      <th>fuel_type_code_pudl</th>\n",
       "      <th>fuel_unit</th>\n",
       "      <th>fuel_qty_burned</th>\n",
       "      <th>fuel_mmbtu_per_unit</th>\n",
       "      <th>fuel_cost_per_unit_burned</th>\n",
       "      <th>fuel_cost_per_unit_delivered</th>\n",
       "      <th>fuel_cost_per_mmbtu</th>\n",
       "    </tr>\n",
       "  </thead>\n",
       "  <tbody>\n",
       "    <tr>\n",
       "      <td>13890</td>\n",
       "      <td>f1_fuel_2005_12_191_0_4</td>\n",
       "      <td>191</td>\n",
       "      <td>2005</td>\n",
       "      <td>tecumseh</td>\n",
       "      <td>gas</td>\n",
       "      <td>mcf</td>\n",
       "      <td>842.0</td>\n",
       "      <td>1.014000</td>\n",
       "      <td>11.510</td>\n",
       "      <td>11.510</td>\n",
       "      <td>11.35000</td>\n",
       "    </tr>\n",
       "    <tr>\n",
       "      <td>22649</td>\n",
       "      <td>f1_fuel_2012_12_195_0_3</td>\n",
       "      <td>195</td>\n",
       "      <td>2012</td>\n",
       "      <td>pulliam 5</td>\n",
       "      <td>gas</td>\n",
       "      <td>mcf</td>\n",
       "      <td>34644.0</td>\n",
       "      <td>1.021000</td>\n",
       "      <td>3.550</td>\n",
       "      <td>3.550</td>\n",
       "      <td>3.48000</td>\n",
       "    </tr>\n",
       "    <tr>\n",
       "      <td>24132</td>\n",
       "      <td>f1_fuel_2013_12_72_0_2</td>\n",
       "      <td>72</td>\n",
       "      <td>2013</td>\n",
       "      <td>clifty creek</td>\n",
       "      <td>oil</td>\n",
       "      <td>gal</td>\n",
       "      <td>547049.0</td>\n",
       "      <td>5.712000</td>\n",
       "      <td>3.268</td>\n",
       "      <td>3.279</td>\n",
       "      <td>24.02638</td>\n",
       "    </tr>\n",
       "    <tr>\n",
       "      <td>7967</td>\n",
       "      <td>f1_fuel_2000_12_27_2_12</td>\n",
       "      <td>27</td>\n",
       "      <td>2000</td>\n",
       "      <td>east bend #2 - cg&amp;e</td>\n",
       "      <td>oil</td>\n",
       "      <td>bbl</td>\n",
       "      <td>10917.0</td>\n",
       "      <td>5.753286</td>\n",
       "      <td>30.733</td>\n",
       "      <td>37.639</td>\n",
       "      <td>5.34200</td>\n",
       "    </tr>\n",
       "    <tr>\n",
       "      <td>8734</td>\n",
       "      <td>f1_fuel_2001_12_127_1_7</td>\n",
       "      <td>127</td>\n",
       "      <td>2001</td>\n",
       "      <td>sporn-total</td>\n",
       "      <td>coal</td>\n",
       "      <td>ton</td>\n",
       "      <td>2264223.0</td>\n",
       "      <td>23.614000</td>\n",
       "      <td>26.731</td>\n",
       "      <td>31.841</td>\n",
       "      <td>1.13200</td>\n",
       "    </tr>\n",
       "    <tr>\n",
       "      <td>12610</td>\n",
       "      <td>f1_fuel_2004_12_191_0_2</td>\n",
       "      <td>191</td>\n",
       "      <td>2004</td>\n",
       "      <td>tecumseh</td>\n",
       "      <td>gas</td>\n",
       "      <td>mcf</td>\n",
       "      <td>93000.0</td>\n",
       "      <td>1.017000</td>\n",
       "      <td>6.970</td>\n",
       "      <td>6.970</td>\n",
       "      <td>6.86000</td>\n",
       "    </tr>\n",
       "    <tr>\n",
       "      <td>7428</td>\n",
       "      <td>f1_fuel_2000_12_55_3_5</td>\n",
       "      <td>55</td>\n",
       "      <td>2000</td>\n",
       "      <td>univ.of florida</td>\n",
       "      <td>gas</td>\n",
       "      <td>mcf</td>\n",
       "      <td>3190457.0</td>\n",
       "      <td>1.043000</td>\n",
       "      <td>4.086</td>\n",
       "      <td>4.086</td>\n",
       "      <td>3.91900</td>\n",
       "    </tr>\n",
       "    <tr>\n",
       "      <td>13852</td>\n",
       "      <td>f1_fuel_2005_12_56_2_2</td>\n",
       "      <td>56</td>\n",
       "      <td>2005</td>\n",
       "      <td>st. johns river</td>\n",
       "      <td>coal</td>\n",
       "      <td>ton</td>\n",
       "      <td>695245.0</td>\n",
       "      <td>24.026000</td>\n",
       "      <td>44.786</td>\n",
       "      <td>44.786</td>\n",
       "      <td>1.86400</td>\n",
       "    </tr>\n",
       "    <tr>\n",
       "      <td>17475</td>\n",
       "      <td>f1_fuel_2008_12_89_1_10</td>\n",
       "      <td>89</td>\n",
       "      <td>2008</td>\n",
       "      <td>sycamore-2 units</td>\n",
       "      <td>gas</td>\n",
       "      <td>mcf</td>\n",
       "      <td>16025.0</td>\n",
       "      <td>1.017000</td>\n",
       "      <td>16.774</td>\n",
       "      <td>16.774</td>\n",
       "      <td>16.49600</td>\n",
       "    </tr>\n",
       "    <tr>\n",
       "      <td>29265</td>\n",
       "      <td>f1_fuel_2018_12_56_0_11</td>\n",
       "      <td>56</td>\n",
       "      <td>2018</td>\n",
       "      <td>riviera</td>\n",
       "      <td>oil</td>\n",
       "      <td>bbl</td>\n",
       "      <td>7526.0</td>\n",
       "      <td>5.917002</td>\n",
       "      <td>120.980</td>\n",
       "      <td>120.980</td>\n",
       "      <td>20.44600</td>\n",
       "    </tr>\n",
       "  </tbody>\n",
       "</table>\n",
       "</div>"
      ],
      "text/plain": [
       "                     record_id  utility_id_ferc1  report_year  \\\n",
       "13890  f1_fuel_2005_12_191_0_4               191         2005   \n",
       "22649  f1_fuel_2012_12_195_0_3               195         2012   \n",
       "24132   f1_fuel_2013_12_72_0_2                72         2013   \n",
       "7967   f1_fuel_2000_12_27_2_12                27         2000   \n",
       "8734   f1_fuel_2001_12_127_1_7               127         2001   \n",
       "12610  f1_fuel_2004_12_191_0_2               191         2004   \n",
       "7428    f1_fuel_2000_12_55_3_5                55         2000   \n",
       "13852   f1_fuel_2005_12_56_2_2                56         2005   \n",
       "17475  f1_fuel_2008_12_89_1_10                89         2008   \n",
       "29265  f1_fuel_2018_12_56_0_11                56         2018   \n",
       "\n",
       "          plant_name_ferc1 fuel_type_code_pudl fuel_unit  fuel_qty_burned  \\\n",
       "13890             tecumseh                 gas       mcf            842.0   \n",
       "22649            pulliam 5                 gas       mcf          34644.0   \n",
       "24132         clifty creek                 oil       gal         547049.0   \n",
       "7967   east bend #2 - cg&e                 oil       bbl          10917.0   \n",
       "8734           sporn-total                coal       ton        2264223.0   \n",
       "12610             tecumseh                 gas       mcf          93000.0   \n",
       "7428       univ.of florida                 gas       mcf        3190457.0   \n",
       "13852      st. johns river                coal       ton         695245.0   \n",
       "17475     sycamore-2 units                 gas       mcf          16025.0   \n",
       "29265              riviera                 oil       bbl           7526.0   \n",
       "\n",
       "       fuel_mmbtu_per_unit  fuel_cost_per_unit_burned  \\\n",
       "13890             1.014000                     11.510   \n",
       "22649             1.021000                      3.550   \n",
       "24132             5.712000                      3.268   \n",
       "7967              5.753286                     30.733   \n",
       "8734             23.614000                     26.731   \n",
       "12610             1.017000                      6.970   \n",
       "7428              1.043000                      4.086   \n",
       "13852            24.026000                     44.786   \n",
       "17475             1.017000                     16.774   \n",
       "29265             5.917002                    120.980   \n",
       "\n",
       "       fuel_cost_per_unit_delivered  fuel_cost_per_mmbtu  \n",
       "13890                        11.510             11.35000  \n",
       "22649                         3.550              3.48000  \n",
       "24132                         3.279             24.02638  \n",
       "7967                         37.639              5.34200  \n",
       "8734                         31.841              1.13200  \n",
       "12610                         6.970              6.86000  \n",
       "7428                          4.086              3.91900  \n",
       "13852                        44.786              1.86400  \n",
       "17475                        16.774             16.49600  \n",
       "29265                       120.980             20.44600  "
      ]
     },
     "execution_count": 3,
     "metadata": {},
     "output_type": "execute_result"
    }
   ],
   "source": [
    "Fuel_Data.sample(10)"
   ]
  },
  {
   "cell_type": "markdown",
   "metadata": {},
   "source": [
    "#### Summary Statistics of the Dataset"
   ]
  },
  {
   "cell_type": "code",
   "execution_count": 4,
   "metadata": {},
   "outputs": [
    {
     "data": {
      "text/html": [
       "<div>\n",
       "<style scoped>\n",
       "    .dataframe tbody tr th:only-of-type {\n",
       "        vertical-align: middle;\n",
       "    }\n",
       "\n",
       "    .dataframe tbody tr th {\n",
       "        vertical-align: top;\n",
       "    }\n",
       "\n",
       "    .dataframe thead th {\n",
       "        text-align: right;\n",
       "    }\n",
       "</style>\n",
       "<table border=\"1\" class=\"dataframe\">\n",
       "  <thead>\n",
       "    <tr style=\"text-align: right;\">\n",
       "      <th></th>\n",
       "      <th>record_id</th>\n",
       "      <th>utility_id_ferc1</th>\n",
       "      <th>report_year</th>\n",
       "      <th>plant_name_ferc1</th>\n",
       "      <th>fuel_type_code_pudl</th>\n",
       "      <th>fuel_unit</th>\n",
       "      <th>fuel_qty_burned</th>\n",
       "      <th>fuel_mmbtu_per_unit</th>\n",
       "      <th>fuel_cost_per_unit_burned</th>\n",
       "      <th>fuel_cost_per_unit_delivered</th>\n",
       "      <th>fuel_cost_per_mmbtu</th>\n",
       "    </tr>\n",
       "  </thead>\n",
       "  <tbody>\n",
       "    <tr>\n",
       "      <td>count</td>\n",
       "      <td>29523</td>\n",
       "      <td>29523.000000</td>\n",
       "      <td>29523.000000</td>\n",
       "      <td>29523</td>\n",
       "      <td>29523</td>\n",
       "      <td>29343</td>\n",
       "      <td>2.952300e+04</td>\n",
       "      <td>29523.000000</td>\n",
       "      <td>29523.000000</td>\n",
       "      <td>2.952300e+04</td>\n",
       "      <td>29523.000000</td>\n",
       "    </tr>\n",
       "    <tr>\n",
       "      <td>unique</td>\n",
       "      <td>29523</td>\n",
       "      <td>NaN</td>\n",
       "      <td>NaN</td>\n",
       "      <td>2315</td>\n",
       "      <td>6</td>\n",
       "      <td>9</td>\n",
       "      <td>NaN</td>\n",
       "      <td>NaN</td>\n",
       "      <td>NaN</td>\n",
       "      <td>NaN</td>\n",
       "      <td>NaN</td>\n",
       "    </tr>\n",
       "    <tr>\n",
       "      <td>top</td>\n",
       "      <td>f1_fuel_2005_12_151_0_7</td>\n",
       "      <td>NaN</td>\n",
       "      <td>NaN</td>\n",
       "      <td>big stone</td>\n",
       "      <td>gas</td>\n",
       "      <td>mcf</td>\n",
       "      <td>NaN</td>\n",
       "      <td>NaN</td>\n",
       "      <td>NaN</td>\n",
       "      <td>NaN</td>\n",
       "      <td>NaN</td>\n",
       "    </tr>\n",
       "    <tr>\n",
       "      <td>freq</td>\n",
       "      <td>1</td>\n",
       "      <td>NaN</td>\n",
       "      <td>NaN</td>\n",
       "      <td>156</td>\n",
       "      <td>11486</td>\n",
       "      <td>11354</td>\n",
       "      <td>NaN</td>\n",
       "      <td>NaN</td>\n",
       "      <td>NaN</td>\n",
       "      <td>NaN</td>\n",
       "      <td>NaN</td>\n",
       "    </tr>\n",
       "    <tr>\n",
       "      <td>mean</td>\n",
       "      <td>NaN</td>\n",
       "      <td>118.601836</td>\n",
       "      <td>2005.806050</td>\n",
       "      <td>NaN</td>\n",
       "      <td>NaN</td>\n",
       "      <td>NaN</td>\n",
       "      <td>2.622119e+06</td>\n",
       "      <td>8.492111</td>\n",
       "      <td>208.649031</td>\n",
       "      <td>9.175704e+02</td>\n",
       "      <td>19.304354</td>\n",
       "    </tr>\n",
       "    <tr>\n",
       "      <td>std</td>\n",
       "      <td>NaN</td>\n",
       "      <td>74.178353</td>\n",
       "      <td>7.025483</td>\n",
       "      <td>NaN</td>\n",
       "      <td>NaN</td>\n",
       "      <td>NaN</td>\n",
       "      <td>9.118004e+06</td>\n",
       "      <td>10.600220</td>\n",
       "      <td>2854.490090</td>\n",
       "      <td>6.877593e+04</td>\n",
       "      <td>2091.540939</td>\n",
       "    </tr>\n",
       "    <tr>\n",
       "      <td>min</td>\n",
       "      <td>NaN</td>\n",
       "      <td>1.000000</td>\n",
       "      <td>1994.000000</td>\n",
       "      <td>NaN</td>\n",
       "      <td>NaN</td>\n",
       "      <td>NaN</td>\n",
       "      <td>1.000000e+00</td>\n",
       "      <td>0.000001</td>\n",
       "      <td>-276.080000</td>\n",
       "      <td>-8.749370e+02</td>\n",
       "      <td>-41.501000</td>\n",
       "    </tr>\n",
       "    <tr>\n",
       "      <td>25%</td>\n",
       "      <td>NaN</td>\n",
       "      <td>55.000000</td>\n",
       "      <td>2000.000000</td>\n",
       "      <td>NaN</td>\n",
       "      <td>NaN</td>\n",
       "      <td>NaN</td>\n",
       "      <td>1.381700e+04</td>\n",
       "      <td>1.024000</td>\n",
       "      <td>5.207000</td>\n",
       "      <td>3.778500e+00</td>\n",
       "      <td>1.940000</td>\n",
       "    </tr>\n",
       "    <tr>\n",
       "      <td>50%</td>\n",
       "      <td>NaN</td>\n",
       "      <td>122.000000</td>\n",
       "      <td>2006.000000</td>\n",
       "      <td>NaN</td>\n",
       "      <td>NaN</td>\n",
       "      <td>NaN</td>\n",
       "      <td>2.533220e+05</td>\n",
       "      <td>5.762694</td>\n",
       "      <td>26.000000</td>\n",
       "      <td>1.737100e+01</td>\n",
       "      <td>4.127000</td>\n",
       "    </tr>\n",
       "    <tr>\n",
       "      <td>75%</td>\n",
       "      <td>NaN</td>\n",
       "      <td>176.000000</td>\n",
       "      <td>2012.000000</td>\n",
       "      <td>NaN</td>\n",
       "      <td>NaN</td>\n",
       "      <td>NaN</td>\n",
       "      <td>1.424034e+06</td>\n",
       "      <td>17.006000</td>\n",
       "      <td>47.113000</td>\n",
       "      <td>4.213700e+01</td>\n",
       "      <td>7.745000</td>\n",
       "    </tr>\n",
       "    <tr>\n",
       "      <td>max</td>\n",
       "      <td>NaN</td>\n",
       "      <td>514.000000</td>\n",
       "      <td>2018.000000</td>\n",
       "      <td>NaN</td>\n",
       "      <td>NaN</td>\n",
       "      <td>NaN</td>\n",
       "      <td>5.558942e+08</td>\n",
       "      <td>341.260000</td>\n",
       "      <td>139358.000000</td>\n",
       "      <td>7.964521e+06</td>\n",
       "      <td>359278.000000</td>\n",
       "    </tr>\n",
       "  </tbody>\n",
       "</table>\n",
       "</div>"
      ],
      "text/plain": [
       "                      record_id  utility_id_ferc1   report_year  \\\n",
       "count                     29523      29523.000000  29523.000000   \n",
       "unique                    29523               NaN           NaN   \n",
       "top     f1_fuel_2005_12_151_0_7               NaN           NaN   \n",
       "freq                          1               NaN           NaN   \n",
       "mean                        NaN        118.601836   2005.806050   \n",
       "std                         NaN         74.178353      7.025483   \n",
       "min                         NaN          1.000000   1994.000000   \n",
       "25%                         NaN         55.000000   2000.000000   \n",
       "50%                         NaN        122.000000   2006.000000   \n",
       "75%                         NaN        176.000000   2012.000000   \n",
       "max                         NaN        514.000000   2018.000000   \n",
       "\n",
       "       plant_name_ferc1 fuel_type_code_pudl fuel_unit  fuel_qty_burned  \\\n",
       "count             29523               29523     29343     2.952300e+04   \n",
       "unique             2315                   6         9              NaN   \n",
       "top           big stone                 gas       mcf              NaN   \n",
       "freq                156               11486     11354              NaN   \n",
       "mean                NaN                 NaN       NaN     2.622119e+06   \n",
       "std                 NaN                 NaN       NaN     9.118004e+06   \n",
       "min                 NaN                 NaN       NaN     1.000000e+00   \n",
       "25%                 NaN                 NaN       NaN     1.381700e+04   \n",
       "50%                 NaN                 NaN       NaN     2.533220e+05   \n",
       "75%                 NaN                 NaN       NaN     1.424034e+06   \n",
       "max                 NaN                 NaN       NaN     5.558942e+08   \n",
       "\n",
       "        fuel_mmbtu_per_unit  fuel_cost_per_unit_burned  \\\n",
       "count          29523.000000               29523.000000   \n",
       "unique                  NaN                        NaN   \n",
       "top                     NaN                        NaN   \n",
       "freq                    NaN                        NaN   \n",
       "mean               8.492111                 208.649031   \n",
       "std               10.600220                2854.490090   \n",
       "min                0.000001                -276.080000   \n",
       "25%                1.024000                   5.207000   \n",
       "50%                5.762694                  26.000000   \n",
       "75%               17.006000                  47.113000   \n",
       "max              341.260000              139358.000000   \n",
       "\n",
       "        fuel_cost_per_unit_delivered  fuel_cost_per_mmbtu  \n",
       "count                   2.952300e+04         29523.000000  \n",
       "unique                           NaN                  NaN  \n",
       "top                              NaN                  NaN  \n",
       "freq                             NaN                  NaN  \n",
       "mean                    9.175704e+02            19.304354  \n",
       "std                     6.877593e+04          2091.540939  \n",
       "min                    -8.749370e+02           -41.501000  \n",
       "25%                     3.778500e+00             1.940000  \n",
       "50%                     1.737100e+01             4.127000  \n",
       "75%                     4.213700e+01             7.745000  \n",
       "max                     7.964521e+06        359278.000000  "
      ]
     },
     "execution_count": 4,
     "metadata": {},
     "output_type": "execute_result"
    }
   ],
   "source": [
    "Fuel_Data.describe(include='all')"
   ]
  },
  {
   "cell_type": "markdown",
   "metadata": {},
   "source": [
    "### Question 1"
   ]
  },
  {
   "cell_type": "code",
   "execution_count": 19,
   "metadata": {},
   "outputs": [
    {
     "data": {
      "text/plain": [
       "[1, 2, 3, 4, 5, 6, 13, 21, 34]"
      ]
     },
     "execution_count": 19,
     "metadata": {},
     "output_type": "execute_result"
    }
   ],
   "source": [
    "A = [1,2,3,4,5,6]\n",
    "B = [13, 21, 34]\n",
    "A.extend(B)\n",
    "A\n"
   ]
  },
  {
   "cell_type": "markdown",
   "metadata": {},
   "source": [
    "### Question 2"
   ]
  },
  {
   "cell_type": "code",
   "execution_count": 20,
   "metadata": {},
   "outputs": [
    {
     "name": "stdout",
     "output_type": "stream",
     "text": [
      "[[1. 0. 0.]\n",
      " [0. 1. 0.]\n",
      " [0. 0. 1.]]\n"
     ]
    }
   ],
   "source": [
    "Z = np.identity(3)\n",
    "print(Z)"
   ]
  },
  {
   "cell_type": "markdown",
   "metadata": {},
   "source": [
    "### Question 3"
   ]
  },
  {
   "cell_type": "code",
   "execution_count": 23,
   "metadata": {},
   "outputs": [
    {
     "data": {
      "text/plain": [
       "fuel_type_code_pudl              gas\n",
       "fuel_cost_per_unit_burned    13.6594\n",
       "Name: 1, dtype: object"
      ]
     },
     "execution_count": 23,
     "metadata": {},
     "output_type": "execute_result"
    }
   ],
   "source": [
    "Fuel_Type_Code_Average = Fuel_Data.groupby('fuel_type_code_pudl', as_index=False)['fuel_cost_per_unit_burned'].mean()\n",
    "Fuel_Type_Code_Average.loc[Fuel_Type_Code_Average['fuel_cost_per_unit_burned'].idxmin()]"
   ]
  },
  {
   "cell_type": "markdown",
   "metadata": {},
   "source": [
    "### Question 4"
   ]
  },
  {
   "cell_type": "code",
   "execution_count": 29,
   "metadata": {},
   "outputs": [
    {
     "data": {
      "text/plain": [
       "count    29523.00\n",
       "mean         8.49\n",
       "std         10.60\n",
       "min          0.00\n",
       "25%          1.02\n",
       "50%          5.76\n",
       "75%         17.01\n",
       "max        341.26\n",
       "Name: fuel_mmbtu_per_unit, dtype: float64"
      ]
     },
     "execution_count": 29,
     "metadata": {},
     "output_type": "execute_result"
    }
   ],
   "source": [
    "Fuel_Data['fuel_mmbtu_per_unit'].describe(include='np.number').round(2)"
   ]
  },
  {
   "cell_type": "markdown",
   "metadata": {},
   "source": [
    "### Question 5"
   ]
  },
  {
   "cell_type": "code",
   "execution_count": 32,
   "metadata": {},
   "outputs": [
    {
     "name": "stdout",
     "output_type": "stream",
     "text": [
      "15.85\n",
      "651.37\n"
     ]
    }
   ],
   "source": [
    "fuel_qty_burned_skew = Fuel_Data['fuel_qty_burned'].skew(axis = 0, skipna = True).round(2)\n",
    "fuel_qty_burned_kurtosis = Fuel_Data['fuel_qty_burned'].kurtosis(axis = 0, skipna = True).round(2)\n",
    "print(fuel_qty_burned_skew)\n",
    "print(fuel_qty_burned_kurtosis)"
   ]
  },
  {
   "cell_type": "markdown",
   "metadata": {},
   "source": [
    "### Question 6"
   ]
  },
  {
   "cell_type": "code",
   "execution_count": 38,
   "metadata": {},
   "outputs": [
    {
     "name": "stdout",
     "output_type": "stream",
     "text": [
      "Index(['fuel_unit'], dtype='object')\n",
      "180\n",
      "0.61\n"
     ]
    }
   ],
   "source": [
    "Feature_missing_value = Fuel_Data.columns[Fuel_Data.isnull().any()]\n",
    "Number_of_missing_value = Fuel_Data.isnull().any(axis = 1).sum()\n",
    "Percentage_of_missing_value = (Fuel_Data['fuel_unit'].isnull().sum() * 100 / len(Fuel_Data)).round(3)\n",
    "print (Feature_missing_value)\n",
    "print(Number_of_missing_value)\n",
    "print(Percentage_of_missing_value)"
   ]
  },
  {
   "cell_type": "markdown",
   "metadata": {},
   "source": [
    "### Question 7"
   ]
  },
  {
   "cell_type": "code",
   "execution_count": 39,
   "metadata": {},
   "outputs": [
    {
     "data": {
      "text/plain": [
       "dtype('O')"
      ]
     },
     "execution_count": 39,
     "metadata": {},
     "output_type": "execute_result"
    }
   ],
   "source": [
    "Fuel_Data['fuel_unit'].dtypes"
   ]
  },
  {
   "cell_type": "markdown",
   "metadata": {},
   "source": [
    "### Question 8"
   ]
  },
  {
   "cell_type": "code",
   "execution_count": 40,
   "metadata": {},
   "outputs": [
    {
     "name": "stdout",
     "output_type": "stream",
     "text": [
      "fuel_cost_per_unit_burned       1.000000\n",
      "report_year                     0.013599\n",
      "fuel_cost_per_unit_delivered    0.011007\n",
      "fuel_cost_per_mmbtu            -0.000437\n",
      "fuel_mmbtu_per_unit            -0.010034\n",
      "fuel_qty_burned                -0.018535\n",
      "utility_id_ferc1               -0.037863\n",
      "Name: fuel_cost_per_unit_burned, dtype: float64\n"
     ]
    }
   ],
   "source": [
    "corr_matrix = Fuel_Data.corr()\n",
    "print(corr_matrix[\"fuel_cost_per_unit_burned\"].sort_values(ascending=False))"
   ]
  },
  {
   "cell_type": "markdown",
   "metadata": {},
   "source": [
    "### Question 9"
   ]
  },
  {
   "cell_type": "code",
   "execution_count": 42,
   "metadata": {},
   "outputs": [
    {
     "data": {
      "text/plain": [
       "-20.56765451826053"
      ]
     },
     "execution_count": 42,
     "metadata": {},
     "output_type": "execute_result"
    }
   ],
   "source": [
    "Fuel_Cost_1994 = Fuel_Data[(Fuel_Data['report_year'] == 1994)&(Fuel_Data['fuel_type_code_pudl'] == 'coal')]['fuel_cost_per_unit_burned'].sum()\n",
    "Fuel_Cost_1998 = Fuel_Data[(Fuel_Data['report_year'] == 1998)&(Fuel_Data['fuel_type_code_pudl'] == 'coal')]['fuel_cost_per_unit_burned'].sum()\n",
    "perc_change = ((Fuel_Cost_1998-Fuel_Cost_1994)/Fuel_Cost_1994)*100\n",
    "perc_change"
   ]
  },
  {
   "cell_type": "markdown",
   "metadata": {},
   "source": [
    "### Question 10"
   ]
  },
  {
   "cell_type": "code",
   "execution_count": null,
   "metadata": {},
   "outputs": [],
   "source": []
  }
 ],
 "metadata": {
  "kernelspec": {
   "display_name": "Python 3",
   "language": "python",
   "name": "python3"
  },
  "language_info": {
   "codemirror_mode": {
    "name": "ipython",
    "version": 3
   },
   "file_extension": ".py",
   "mimetype": "text/x-python",
   "name": "python",
   "nbconvert_exporter": "python",
   "pygments_lexer": "ipython3",
   "version": "3.7.4"
  }
 },
 "nbformat": 4,
 "nbformat_minor": 2
}
